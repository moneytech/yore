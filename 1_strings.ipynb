{
 "cells": [
  {
   "cell_type": "code",
   "execution_count": null,
   "metadata": {
    "collapsed": true
   },
   "outputs": [],
   "source": [
    "# Copyright (c) Dan Sheffner http://sheffner.com/                                             \n",
    "# All rights reserved.                                                           \n",
    "#                                                                                \n",
    "# Permission is hereby granted, free of charge, to any person obtaining a            \n",
    "# copy of this software and associated documentation files (the                      \n",
    "# \"Software\"), to deal in the Software without restriction, including                \n",
    "# without limitation the rights to use, copy, modify, merge, publish, dis-           \n",
    "# tribute, sublicense, and/or sell copies of the Software, and to permit             \n",
    "# persons to whom the Software is furnished to do so, subject to the fol-            \n",
    "# lowing conditions:                                                             \n",
    "#                                                                                \n",
    "# The above copyright notice and this permission notice shall be included            \n",
    "# in all copies or substantial portions of the Software.                             \n",
    "#                                                                                \n",
    "# THE SOFTWARE IS PROVIDED \"AS IS\", WITHOUT WARRANTY OF ANY KIND, EXPRESS            \n",
    "# OR IMPLIED, INCLUDING BUT NOT LIMITED TO THE WARRANTIES OF MERCHANTABIL-           \n",
    "# ITY, FITNESS FOR A PARTICULAR PURPOSE AND NONINFRINGEMENT. IN NO EVENT             \n",
    "# SHALL THE AUTHOR BE LIABLE FOR ANY CLAIM, DAMAGES OR OTHER LIABILITY,              \n",
    "# WHETHER IN AN ACTION OF CONTRACT, TORT OR OTHERWISE, ARISING FROM,                 \n",
    "# OUT OF OR IN CONNECTION WITH THE SOFTWARE OR THE USE OR OTHER DEALINGS             \n",
    "# IN THE SOFTWARE."
   ]
  },
  {
   "cell_type": "code",
   "execution_count": null,
   "metadata": {
    "collapsed": false
   },
   "outputs": [],
   "source": [
    "# this is how comments are written in pyhton\n",
    "# anything after the dash won't be executed\n",
    "# it is only used for documeantion\n",
    "\n",
    "# lets print hello world\n",
    "print \"hello world\"\n",
    "\n",
    "# use ctrl-enter to run the code in this box (ipython feature)"
   ]
  },
  {
   "cell_type": "code",
   "execution_count": null,
   "metadata": {
    "collapsed": false
   },
   "outputs": [],
   "source": [
    "# python has some basic data types.  Lets start with strings. \n",
    "# strings are series of characters inside quote markes \n",
    "# strings can be added together to make longer sentenses/output\n",
    "\n",
    "# assign a variable called firstName to Dan\n",
    "firstName = \"Dan\"\n",
    "# assign a variable called lastName to Sheffner\n",
    "lastName = \"Sheffner\"\n",
    "\n",
    "# This is called concatenation or the ability to add strings together\n",
    "print \"I work with \" + firstName + \" \" + lastName"
   ]
  },
  {
   "cell_type": "code",
   "execution_count": null,
   "metadata": {
    "collapsed": false
   },
   "outputs": [],
   "source": [
    "# If you are unfamiliar with what data type your working with in python\n",
    "# you can use the type() command. \n",
    "# str means string\n",
    "\n",
    "myVariable = \"Welcome to python!\"\n",
    "print type(myVariable)"
   ]
  },
  {
   "cell_type": "code",
   "execution_count": null,
   "metadata": {
    "collapsed": false
   },
   "outputs": [],
   "source": [
    "# lets only get some of the string\n",
    "print myVariable[0:7]"
   ]
  },
  {
   "cell_type": "code",
   "execution_count": null,
   "metadata": {
    "collapsed": false
   },
   "outputs": [],
   "source": [
    "# lets print from the string backwards\n",
    "print myVariable[::-1]"
   ]
  },
  {
   "cell_type": "code",
   "execution_count": null,
   "metadata": {
    "collapsed": false
   },
   "outputs": [],
   "source": [
    "# lots of time you need to remove white space:\n",
    "firstName = \"Dan         \"\n",
    "print \"With lots of white space: \" + firstName + \" \" + lastName\n",
    "print \"Without lots of white space: \" + firstName.strip() + \" \" + lastName"
   ]
  },
  {
   "cell_type": "code",
   "execution_count": null,
   "metadata": {
    "collapsed": false
   },
   "outputs": [],
   "source": [
    "# upper case\n",
    "print firstName.upper()"
   ]
  },
  {
   "cell_type": "code",
   "execution_count": null,
   "metadata": {
    "collapsed": false
   },
   "outputs": [],
   "source": [
    "# lower case\n",
    "print firstName.lower()"
   ]
  },
  {
   "cell_type": "code",
   "execution_count": null,
   "metadata": {
    "collapsed": false
   },
   "outputs": [],
   "source": [
    "# lets only get some of the string backwards with negative \n",
    "print myVariable[-7:len(myVariable)]"
   ]
  },
  {
   "cell_type": "code",
   "execution_count": null,
   "metadata": {
    "collapsed": false
   },
   "outputs": [],
   "source": [
    "# does a string contain another string and where does that string start\n",
    "# at\n",
    "\n",
    "# returns 11 because this is where python starts at the 11 character over\n",
    "# starting with 0.  Everything in programming languages start with 0 \n",
    "# usually\n",
    "print myVariable.find(\"python\")\n",
    "\n",
    "# returns -1 meaning it could not find it\n",
    "print myVariable.find(\"test\")\n",
    "\n"
   ]
  },
  {
   "cell_type": "code",
   "execution_count": null,
   "metadata": {
    "collapsed": false
   },
   "outputs": [],
   "source": [
    "# find and replace\n",
    "newVariable = myVariable.replace(\"python!\", \"ipython notebooks!\")\n",
    "print newVariable"
   ]
  },
  {
   "cell_type": "code",
   "execution_count": null,
   "metadata": {
    "collapsed": false
   },
   "outputs": [],
   "source": [
    "# Strings can span multiple line for better readability with tripple quotes\n",
    "\n",
    "myAddress = \"\"\"\n",
    "               Dan Sheffner\n",
    "               200 South Wacker Dr\n",
    "               Chicago, IL 60613\"\"\"\n",
    "\n",
    "print myAddress"
   ]
  },
  {
   "cell_type": "code",
   "execution_count": null,
   "metadata": {
    "collapsed": false
   },
   "outputs": [],
   "source": [
    "print \"This concludes the python tutorial number 1\""
   ]
  }
 ],
 "metadata": {
  "kernelspec": {
   "display_name": "Python 2",
   "language": "python",
   "name": "python2"
  },
  "language_info": {
   "codemirror_mode": {
    "name": "ipython",
    "version": 2
   },
   "file_extension": ".py",
   "mimetype": "text/x-python",
   "name": "python",
   "nbconvert_exporter": "python",
   "pygments_lexer": "ipython2",
   "version": "2.7.6"
  }
 },
 "nbformat": 4,
 "nbformat_minor": 0
}
